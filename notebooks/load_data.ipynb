{
 "cells": [
  {
   "cell_type": "code",
   "execution_count": 1,
   "id": "62f95401",
   "metadata": {},
   "outputs": [],
   "source": [
    "import pandas as pd\n",
    "import seaborn as sns"
   ]
  },
  {
   "cell_type": "markdown",
   "id": "32cdd5c0",
   "metadata": {},
   "source": [
    "# filter the data"
   ]
  },
  {
   "cell_type": "code",
   "execution_count": 2,
   "id": "e7931827",
   "metadata": {},
   "outputs": [],
   "source": [
    "def filter_xy(coord):\n",
    "    if pd.isna(coord):\n",
    "        return False\n",
    "    xy = coord.split(\",\")\n",
    "    if len(xy) != 2:\n",
    "        return False\n",
    "    x, y = int(xy[0]), int(xy[1])\n",
    "    return x < 250 and y >= 1470 and y < 1970"
   ]
  },
  {
   "cell_type": "code",
   "execution_count": 3,
   "id": "cec7c2c8",
   "metadata": {},
   "outputs": [],
   "source": [
    "path_open = \"../data/\"\n",
    "path_save = \"../data_filtered/\"\n",
    "files = [\"place_{:02d}.csv\".format(i) for i in range(79)]"
   ]
  },
  {
   "cell_type": "code",
   "execution_count": 4,
   "id": "71a737f8",
   "metadata": {},
   "outputs": [
    {
     "name": "stdout",
     "output_type": "stream",
     "text": [
      "place_00.csv, 0.10130033003861937\n",
      "place_01.csv, 0.10137139582399811\n",
      "place_02.csv, 0.19972473550560396\n",
      "place_03.csv, 0.44372327598160927\n",
      "place_04.csv, 0.13062323000505027\n",
      "place_05.csv, 0.3036951157560567\n",
      "place_06.csv, 0.0\n",
      "place_07.csv, 0.0\n",
      "place_08.csv, 0.3460410541987767\n",
      "place_09.csv, 0.0\n",
      "place_10.csv, 0.0\n",
      "place_11.csv, 0.0\n",
      "place_12.csv, 0.0\n",
      "place_13.csv, 0.0\n",
      "place_14.csv, 0.0\n",
      "place_15.csv, 0.0\n",
      "place_16.csv, 0.0\n",
      "place_17.csv, 0.0\n",
      "place_18.csv, 0.0\n",
      "place_19.csv, 0.0\n",
      "place_20.csv, 0.0\n",
      "place_21.csv, 0.0\n",
      "place_22.csv, 0.0\n",
      "place_23.csv, 0.0\n",
      "place_24.csv, 0.0\n",
      "place_25.csv, 0.0\n",
      "place_26.csv, 0.0\n",
      "place_27.csv, 0.0\n",
      "place_28.csv, 0.0\n",
      "place_29.csv, 0.19192303957009205\n",
      "place_30.csv, 0.0\n",
      "place_31.csv, 0.0\n",
      "place_32.csv, 0.0\n",
      "place_33.csv, 0.0\n",
      "place_34.csv, 0.0\n",
      "place_35.csv, 0.0\n",
      "place_36.csv, 0.0\n",
      "place_37.csv, 0.0\n",
      "place_38.csv, 0.0\n",
      "place_39.csv, 0.0\n",
      "place_40.csv, 0.12238680049352352\n",
      "place_41.csv, 0.09981887039470075\n",
      "place_42.csv, 0.0\n",
      "place_43.csv, 0.0\n",
      "place_44.csv, 0.0018604675273510497\n",
      "place_45.csv, 0.12271566427252474\n",
      "place_46.csv, 0.10608970408849494\n",
      "place_47.csv, 0.21331319312166083\n",
      "place_48.csv, 0.12254704107324761\n",
      "place_49.csv, 0.17675778654797136\n",
      "place_50.csv, 0.06664725940402398\n",
      "place_51.csv, 0.30680766676623267\n",
      "place_52.csv, 0.12120799953366153\n",
      "place_53.csv, 0.15575243191345342\n",
      "place_54.csv, 0.3042951008521137\n",
      "place_55.csv, 0.07890732336014496\n",
      "place_56.csv, 0.08968863807683602\n",
      "place_57.csv, 0.1327991552242722\n",
      "place_58.csv, 0.059954768931033346\n",
      "place_59.csv, 0.19265469474173433\n",
      "place_60.csv, 0.0967259506604181\n",
      "place_61.csv, 0.1562632061938991\n",
      "place_62.csv, 0.17116686653821692\n",
      "place_63.csv, 0.371172166954094\n",
      "place_64.csv, 0.21136912691995435\n",
      "place_65.csv, 0.12882184901366\n",
      "place_66.csv, 0.08513906655097948\n",
      "place_67.csv, 0.24342058133037503\n",
      "place_68.csv, 0.19415491210936486\n",
      "place_69.csv, 0.32437586731055235\n",
      "place_70.csv, 0.5811068737884358\n",
      "place_71.csv, 0.5922559789475806\n",
      "place_72.csv, 0.5511709836854014\n",
      "place_73.csv, 0.49206985112638874\n",
      "place_74.csv, 0.17061399959835602\n",
      "place_75.csv, 0.3333610507591089\n",
      "place_76.csv, 0.23889667333154904\n",
      "place_77.csv, 0.4906135279992997\n",
      "place_78.csv, 0.0034831859230442697\n"
     ]
    }
   ],
   "source": [
    "for file in files:\n",
    "    # open file\n",
    "    df = pd.read_csv(path_open + file)\n",
    "    # filter data\n",
    "    mask = df[\"coordinate\"].apply(filter_xy)\n",
    "    print(f\"{file}, {mask.sum() / len(df)}\")\n",
    "    # save file\n",
    "    df[mask].to_csv(path_save + file)"
   ]
  },
  {
   "cell_type": "markdown",
   "id": "3d1a6b26",
   "metadata": {},
   "source": [
    "# put all these files into one unique csv file"
   ]
  },
  {
   "cell_type": "code",
   "execution_count": 12,
   "id": "ad7d950e",
   "metadata": {},
   "outputs": [],
   "source": [
    "df_all = None\n",
    "for file in files:\n",
    "    df = pd.read_csv(path_save + file)\n",
    "    df.drop(columns=\"user_id\", inplace=True)\n",
    "    df_all = pd.concat([df_all, df])"
   ]
  },
  {
   "cell_type": "code",
   "execution_count": 13,
   "id": "812f627c",
   "metadata": {},
   "outputs": [],
   "source": [
    "df_all.to_csv(path_save + \"place_all.csv\")"
   ]
  }
 ],
 "metadata": {
  "kernelspec": {
   "display_name": "Python 3 (ipykernel)",
   "language": "python",
   "name": "python3"
  },
  "language_info": {
   "codemirror_mode": {
    "name": "ipython",
    "version": 3
   },
   "file_extension": ".py",
   "mimetype": "text/x-python",
   "name": "python",
   "nbconvert_exporter": "python",
   "pygments_lexer": "ipython3",
   "version": "3.8.12"
  },
  "toc": {
   "base_numbering": 1,
   "nav_menu": {},
   "number_sections": true,
   "sideBar": true,
   "skip_h1_title": false,
   "title_cell": "Table of Contents",
   "title_sidebar": "Contents",
   "toc_cell": false,
   "toc_position": {},
   "toc_section_display": true,
   "toc_window_display": false
  },
  "varInspector": {
   "cols": {
    "lenName": 16,
    "lenType": 16,
    "lenVar": 40
   },
   "kernels_config": {
    "python": {
     "delete_cmd_postfix": "",
     "delete_cmd_prefix": "del ",
     "library": "var_list.py",
     "varRefreshCmd": "print(var_dic_list())"
    },
    "r": {
     "delete_cmd_postfix": ") ",
     "delete_cmd_prefix": "rm(",
     "library": "var_list.r",
     "varRefreshCmd": "cat(var_dic_list()) "
    }
   },
   "types_to_exclude": [
    "module",
    "function",
    "builtin_function_or_method",
    "instance",
    "_Feature"
   ],
   "window_display": false
  }
 },
 "nbformat": 4,
 "nbformat_minor": 5
}
