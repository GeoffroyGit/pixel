{
 "cells": [
  {
   "cell_type": "code",
   "execution_count": 1,
   "id": "62f95401",
   "metadata": {},
   "outputs": [],
   "source": [
    "import pandas as pd\n",
    "import seaborn as sns"
   ]
  },
  {
   "cell_type": "markdown",
   "id": "32cdd5c0",
   "metadata": {},
   "source": [
    "# filter the data"
   ]
  },
  {
   "cell_type": "code",
   "execution_count": 2,
   "id": "e7931827",
   "metadata": {},
   "outputs": [],
   "source": [
    "def filter_xy(coord):\n",
    "    if pd.isna(coord):\n",
    "        return False\n",
    "    xy = coord.split(\",\")\n",
    "    if len(xy) != 2:\n",
    "        return False\n",
    "    x, y = int(xy[0]), int(xy[1])\n",
    "    return x < 125 and y >= 880 and y < 985"
   ]
  },
  {
   "cell_type": "code",
   "execution_count": 3,
   "id": "cec7c2c8",
   "metadata": {},
   "outputs": [],
   "source": [
    "path_open = \"../data/\"\n",
    "path_save = \"../data_filtered/\"\n",
    "files = [\"place_{:02d}.csv\".format(i) for i in range(79)]"
   ]
  },
  {
   "cell_type": "code",
   "execution_count": 4,
   "id": "71a737f8",
   "metadata": {},
   "outputs": [
    {
     "name": "stdout",
     "output_type": "stream",
     "text": [
      "place_00.csv, 0.003352287085101296\n",
      "place_01.csv, 0.0033509026860788316\n",
      "place_02.csv, 0.006997868481512229\n",
      "place_03.csv, 0.002220379672940528\n",
      "place_04.csv, 0.0028024868813223765\n",
      "place_05.csv, 0.0013124772439925493\n",
      "place_06.csv, 0.012169817908226709\n",
      "place_07.csv, 0.01606726416954995\n",
      "place_08.csv, 0.0022729004043648394\n",
      "place_09.csv, 0.013198778844159272\n",
      "place_10.csv, 0.017034697220887\n",
      "place_11.csv, 0.014366086709788421\n",
      "place_12.csv, 0.012086490449777835\n",
      "place_13.csv, 0.01935577078464078\n",
      "place_14.csv, 0.014836493203829983\n",
      "place_15.csv, 0.030635151313676296\n",
      "place_16.csv, 0.01902470229837194\n",
      "place_17.csv, 0.02400367227496159\n",
      "place_18.csv, 0.013130660947268554\n",
      "place_19.csv, 0.00954739123097578\n",
      "place_20.csv, 0.024496539528674054\n",
      "place_21.csv, 0.01056757976764629\n",
      "place_22.csv, 0.02908560958406521\n",
      "place_23.csv, 0.03717878364439013\n",
      "place_24.csv, 0.016217936284443197\n",
      "place_25.csv, 0.03090792210706337\n",
      "place_26.csv, 0.00939766430421877\n",
      "place_27.csv, 0.024473944453798264\n",
      "place_28.csv, 0.012878847033112458\n",
      "place_29.csv, 0.00206483150068522\n",
      "place_30.csv, 0.007467563992403496\n",
      "place_31.csv, 0.008463332103350004\n",
      "place_32.csv, 0.0085290412421646\n",
      "place_33.csv, 0.007299872149131852\n",
      "place_34.csv, 0.018273393784858157\n",
      "place_35.csv, 0.007707650274485222\n",
      "place_36.csv, 0.11293011382178299\n",
      "place_37.csv, 0.16995650209876104\n",
      "place_38.csv, 0.13524226430967937\n",
      "place_39.csv, 0.020708981431438702\n",
      "place_40.csv, 0.00235293846457943\n",
      "place_41.csv, 0.005247923471811937\n",
      "place_42.csv, 0.04570327928278877\n",
      "place_43.csv, 0.1224625725505381\n",
      "place_44.csv, 0.0339057117752717\n",
      "place_45.csv, 0.007281298910276991\n",
      "place_46.csv, 0.005237380358804709\n",
      "place_47.csv, 0.011147682264065211\n",
      "place_48.csv, 0.004351157309123059\n",
      "place_49.csv, 0.002271934184920195\n",
      "place_50.csv, 0.0026181262596951327\n",
      "place_51.csv, 0.0025156405429179788\n",
      "place_52.csv, 0.019058727787486813\n",
      "place_53.csv, 0.002743748732070727\n",
      "place_54.csv, 0.0031884007142089542\n",
      "place_55.csv, 0.0032428104144246843\n",
      "place_56.csv, 0.004252561169730219\n",
      "place_57.csv, 0.002998449657276691\n",
      "place_58.csv, 0.0021614214170971153\n",
      "place_59.csv, 0.002898565692818136\n",
      "place_60.csv, 0.0015832976723590341\n",
      "place_61.csv, 0.004228447614835021\n",
      "place_62.csv, 0.0028288669277904376\n",
      "place_63.csv, 0.0017797908354089073\n",
      "place_64.csv, 0.002007851907232878\n",
      "place_65.csv, 0.006199823666722337\n",
      "place_66.csv, 0.0017644331429693494\n",
      "place_67.csv, 0.0014701096467438582\n",
      "place_68.csv, 0.0013217066050043226\n",
      "place_69.csv, 0.002422248471336197\n",
      "place_70.csv, 0.0010040672495023183\n",
      "place_71.csv, 0.0021921967873436256\n",
      "place_72.csv, 0.004725118056452601\n",
      "place_73.csv, 0.0036996905643307564\n",
      "place_74.csv, 0.0013868875401067502\n",
      "place_75.csv, 0.0036796158058705506\n",
      "place_76.csv, 0.0019196598466986574\n",
      "place_77.csv, 0.0013136185287250864\n",
      "place_78.csv, 0.003451874376285171\n"
     ]
    }
   ],
   "source": [
    "for file in files:\n",
    "    # open file\n",
    "    df = pd.read_csv(path_open + file)\n",
    "    # filter data\n",
    "    mask = df[\"coordinate\"].apply(filter_xy)\n",
    "    print(f\"{file}, {mask.sum() / len(df)}\")\n",
    "    # save file\n",
    "    df[mask].to_csv(path_save + file)"
   ]
  },
  {
   "cell_type": "markdown",
   "id": "3d1a6b26",
   "metadata": {},
   "source": [
    "# put all these files into one unique csv file"
   ]
  },
  {
   "cell_type": "code",
   "execution_count": 7,
   "id": "ad7d950e",
   "metadata": {},
   "outputs": [],
   "source": [
    "df_all = None\n",
    "for file in files:\n",
    "    df = pd.read_csv(path_save + file)\n",
    "    df_all = pd.concat([df_all, df])"
   ]
  },
  {
   "cell_type": "code",
   "execution_count": 9,
   "id": "812f627c",
   "metadata": {},
   "outputs": [],
   "source": [
    "df_all.to_csv(path_save + \"place_all.csv\")"
   ]
  }
 ],
 "metadata": {
  "kernelspec": {
   "display_name": "Python 3 (ipykernel)",
   "language": "python",
   "name": "python3"
  },
  "language_info": {
   "codemirror_mode": {
    "name": "ipython",
    "version": 3
   },
   "file_extension": ".py",
   "mimetype": "text/x-python",
   "name": "python",
   "nbconvert_exporter": "python",
   "pygments_lexer": "ipython3",
   "version": "3.8.12"
  },
  "toc": {
   "base_numbering": 1,
   "nav_menu": {},
   "number_sections": true,
   "sideBar": true,
   "skip_h1_title": false,
   "title_cell": "Table of Contents",
   "title_sidebar": "Contents",
   "toc_cell": false,
   "toc_position": {},
   "toc_section_display": true,
   "toc_window_display": false
  },
  "varInspector": {
   "cols": {
    "lenName": 16,
    "lenType": 16,
    "lenVar": 40
   },
   "kernels_config": {
    "python": {
     "delete_cmd_postfix": "",
     "delete_cmd_prefix": "del ",
     "library": "var_list.py",
     "varRefreshCmd": "print(var_dic_list())"
    },
    "r": {
     "delete_cmd_postfix": ") ",
     "delete_cmd_prefix": "rm(",
     "library": "var_list.r",
     "varRefreshCmd": "cat(var_dic_list()) "
    }
   },
   "types_to_exclude": [
    "module",
    "function",
    "builtin_function_or_method",
    "instance",
    "_Feature"
   ],
   "window_display": false
  }
 },
 "nbformat": 4,
 "nbformat_minor": 5
}
